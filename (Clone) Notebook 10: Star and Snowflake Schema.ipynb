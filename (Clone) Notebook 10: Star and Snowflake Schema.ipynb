{
 "cells": [
  {
   "cell_type": "code",
   "execution_count": 0,
   "metadata": {
    "application/vnd.databricks.v1+cell": {
     "cellMetadata": {},
     "inputWidgets": {},
     "nuid": "37f7bd3a-a1ef-41f6-83fa-2442f25acdb2",
     "showTitle": false,
     "tableResultSettingsMap": {},
     "title": ""
    }
   },
   "outputs": [],
   "source": [
    "# Dim_Product1\n",
    "spark.sql(\"\"\"\n",
    "CREATE OR REPLACE TABLE dim_product (\n",
    " ProductID INT,\n",
    " ProductName STRING,\n",
    " Category STRING\n",
    ") USING DELTA\n",
    "\"\"\")\n",
    "\n",
    "\n",
    "# Dim_Customer\n",
    "spark.sql(\"\"\"\n",
    "CREATE OR REPLACE TABLE dim_customer (\n",
    " CustomerID INT,\n",
    " CustomerName STRING,\n",
    " Region STRING\n",
    ") USING DELTA\n",
    "\"\"\")\n",
    "\n",
    "\n",
    "# Dim_Date\n",
    "spark.sql(\"\"\"\n",
    "CREATE OR REPLACE TABLE dim_date (\n",
    " DateID INT,\n",
    " FullDate DATE,\n",
    " Month STRING,\n",
    " Year INT\n",
    ") USING DELTA\n",
    "\"\"\")\n",
    "\n",
    "\n",
    "# Fact_Sales\n",
    "spark.sql(\"\"\"\n",
    "CREATE OR REPLACE TABLE fact_sales (\n",
    " OrderID INT,\n",
    " ProductID INT,\n",
    " CustomerID INT,\n",
    " DateID INT,\n",
    " Amount DOUBLE\n",
    ") USING DELTA\n",
    "\"\"\")\n"
   ]
  },
  {
   "cell_type": "code",
   "execution_count": 0,
   "metadata": {
    "application/vnd.databricks.v1+cell": {
     "cellMetadata": {},
     "inputWidgets": {},
     "nuid": "75058a7e-de00-4631-bdb1-10e1cd1850bc",
     "showTitle": false,
     "tableResultSettingsMap": {},
     "title": ""
    }
   },
   "outputs": [],
   "source": [
    "#Insert Data\n",
    "spark.sql(\"\"\"\n",
    "INSERT INTO dim_product VALUES\n",
    "(1, 'iPhone 14', 'Mobile'),\n",
    "(2, 'MacBook Pro', 'Laptop')\n",
    "\"\"\")\n",
    "\n",
    "\n",
    "spark.sql(\"\"\"\n",
    "INSERT INTO dim_customer VALUES\n",
    "(100, 'Alice', 'East'),\n",
    "(101, 'Bob', 'West')\n",
    "\"\"\")\n",
    "\n",
    "\n",
    "spark.sql(\"\"\"\n",
    "INSERT INTO dim_date VALUES\n",
    "(1, '2024-01-01', 'January', 2024),\n",
    "(2, '2024-01-02', 'January', 2024)\n",
    "\"\"\")\n",
    "\n",
    "\n",
    "spark.sql(\"\"\"\n",
    "INSERT INTO fact_sales VALUES\n",
    "(1000, 1, 100, 1, 799.00),\n",
    "(1001, 2, 101, 2, 1299.00)\n",
    "\"\"\")\n"
   ]
  },
  {
   "cell_type": "code",
   "execution_count": 0,
   "metadata": {
    "application/vnd.databricks.v1+cell": {
     "cellMetadata": {},
     "inputWidgets": {},
     "nuid": "3abbf481-6a92-4123-ad53-72fbc355c02c",
     "showTitle": false,
     "tableResultSettingsMap": {},
     "title": ""
    }
   },
   "outputs": [],
   "source": [
    "# Star Schema Query\n",
    "spark.sql(\"\"\"\n",
    "SELECT d.Region, p.Category, SUM(f.Amount) AS TotalSales\n",
    "FROM fact_sales f\n",
    "JOIN dim_customer d ON f.CustomerID = d.CustomerID\n",
    "JOIN dim_product p ON f.ProductID = p.ProductID\n",
    "GROUP BY d.Region, p.Category\n",
    "\"\"\").show()\n"
   ]
  },
  {
   "cell_type": "markdown",
   "metadata": {
    "application/vnd.databricks.v1+cell": {
     "cellMetadata": {},
     "inputWidgets": {},
     "nuid": "53b67b05-6641-4c29-bdd0-30f81d4d2677",
     "showTitle": false,
     "tableResultSettingsMap": {},
     "title": ""
    }
   },
   "source": [
    "###Snowflake Schema"
   ]
  },
  {
   "cell_type": "code",
   "execution_count": 0,
   "metadata": {
    "application/vnd.databricks.v1+cell": {
     "cellMetadata": {},
     "inputWidgets": {},
     "nuid": "2c3feb00-b66c-4094-804a-8f1ef7430266",
     "showTitle": false,
     "tableResultSettingsMap": {},
     "title": ""
    }
   },
   "outputs": [],
   "source": [
    "spark.sql(\"\"\"\n",
    "CREATE OR REPLACE TABLE dim_category (\n",
    " CategoryID INT,\n",
    " CategoryName STRING\n",
    ") USING DELTA\n",
    "\"\"\")\n",
    "\n",
    "\n",
    "spark.sql(\"\"\"\n",
    "CREATE OR REPLACE TABLE dim_region (\n",
    " RegionID INT,\n",
    " RegionName STRING\n",
    ") USING DELTA\n",
    "\"\"\")\n"
   ]
  },
  {
   "cell_type": "code",
   "execution_count": 0,
   "metadata": {
    "application/vnd.databricks.v1+cell": {
     "cellMetadata": {},
     "inputWidgets": {},
     "nuid": "a25d22f6-a163-4ce3-bf67-7044c91ae08a",
     "showTitle": false,
     "tableResultSettingsMap": {},
     "title": ""
    }
   },
   "outputs": [],
   "source": [
    "#normalized\n",
    "spark.sql(\"\"\"\n",
    "CREATE OR REPLACE TABLE dim_product_sf (\n",
    " ProductID INT,\n",
    " ProductName STRING,\n",
    " CategoryID INT\n",
    ") USING DELTA\n",
    "\"\"\")\n",
    "\n",
    "\n",
    "spark.sql(\"\"\"\n",
    "CREATE OR REPLACE TABLE dim_customer_sf (\n",
    " CustomerID INT,\n",
    " CustomerName STRING,\n",
    " RegionID INT\n",
    ") USING DELTA\n",
    "\"\"\")\n"
   ]
  },
  {
   "cell_type": "code",
   "execution_count": 0,
   "metadata": {
    "application/vnd.databricks.v1+cell": {
     "cellMetadata": {},
     "inputWidgets": {},
     "nuid": "fcc37048-d2cb-466d-a78a-c952d919af21",
     "showTitle": false,
     "tableResultSettingsMap": {},
     "title": ""
    }
   },
   "outputs": [],
   "source": [
    "spark.sql(\"\"\"\n",
    "INSERT INTO dim_category VALUES (1, 'Mobile'), (2, 'Laptop')\n",
    "\"\"\")\n",
    "\n",
    "\n",
    "spark.sql(\"\"\"\n",
    "INSERT INTO dim_region VALUES (1, 'East'), (2, 'West')\n",
    "\"\"\")\n",
    "\n",
    "\n",
    "spark.sql(\"\"\"\n",
    "INSERT INTO dim_product_sf VALUES (1, 'iPhone 14', 1), (2, 'MacBook Pro', 2)\n",
    "\"\"\")\n",
    "\n",
    "\n",
    "spark.sql(\"\"\"\n",
    "INSERT INTO dim_customer_sf VALUES (100, 'Alice', 1), (101, 'Bob', 2)\n",
    "\"\"\")"
   ]
  },
  {
   "cell_type": "code",
   "execution_count": 0,
   "metadata": {
    "application/vnd.databricks.v1+cell": {
     "cellMetadata": {},
     "inputWidgets": {},
     "nuid": "07369180-9050-4ca2-8c00-1abb1d99fb35",
     "showTitle": false,
     "tableResultSettingsMap": {},
     "title": ""
    }
   },
   "outputs": [],
   "source": [
    "spark.sql(\"\"\"\n",
    "SELECT r.RegionName, c.CategoryName, SUM(f.Amount) AS TotalSales\n",
    "FROM fact_sales f\n",
    "JOIN dim_customer_sf cu ON f.CustomerID = cu.CustomerID\n",
    "JOIN dim_region r ON cu.RegionID = r.RegionID\n",
    "JOIN dim_product_sf p ON f.ProductID = p.ProductID\n",
    "JOIN dim_category c ON p.CategoryID = c.CategoryID\n",
    "GROUP BY r.RegionName, c.CategoryName\n",
    "\"\"\").show()\n"
   ]
  },
  {
   "cell_type": "code",
   "execution_count": 0,
   "metadata": {
    "application/vnd.databricks.v1+cell": {
     "cellMetadata": {},
     "inputWidgets": {},
     "nuid": "a62a84ba-2a78-4372-8855-7ca07f9ef664",
     "showTitle": false,
     "tableResultSettingsMap": {},
     "title": ""
    }
   },
   "outputs": [],
   "source": [
    "spark.sql(\"DROP TABLE IF EXISTS dim_product\")\n",
    "spark.sql(\"DROP TABLE IF EXISTS dim_customer\")\n",
    "spark.sql(\"DROP TABLE IF EXISTS dim_date\")\n",
    "spark.sql(\"DROP TABLE IF EXISTS fact_sales\")\n",
    "spark.sql(\"DROP TABLE IF EXISTS dim_category\")\n",
    "spark.sql(\"DROP TABLE IF EXISTS dim_region\")\n",
    "spark.sql(\"DROP TABLE IF EXISTS dim_product_sf\")\n",
    "spark.sql(\"DROP TABLE IF EXISTS dim_customer_sf\")"
   ]
  }
 ],
 "metadata": {
  "application/vnd.databricks.v1+notebook": {
   "computePreferences": null,
   "dashboards": [],
   "environmentMetadata": {
    "base_environment": "",
    "environment_version": "2"
   },
   "inputWidgetPreferences": null,
   "language": "python",
   "notebookMetadata": {
    "pythonIndentUnit": 4
   },
   "notebookName": "(Clone) Notebook 10: Star and Snowflake Schema",
   "widgets": {}
  },
  "language_info": {
   "name": "python"
  }
 },
 "nbformat": 4,
 "nbformat_minor": 0
}
